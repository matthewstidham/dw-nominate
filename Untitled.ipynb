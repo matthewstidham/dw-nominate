{
 "cells": [
  {
   "cell_type": "code",
   "execution_count": 9,
   "metadata": {},
   "outputs": [
    {
     "name": "stderr",
     "output_type": "stream",
     "text": [
      "also installing the dependency ‘pscl’\n",
      "\n",
      "Warning message in install.packages(\"wnominate\", repos = \"http://cran.us.r-project.org\"):\n",
      "“installation of package ‘pscl’ had non-zero exit status”Warning message in install.packages(\"wnominate\", repos = \"http://cran.us.r-project.org\"):\n",
      "“installation of package ‘wnominate’ had non-zero exit status”Updating HTML index of packages in '.Library'\n",
      "Making 'packages.html' ... done\n"
     ]
    }
   ],
   "source": [
    "install.packages('wnominate', repos='http://cran.us.r-project.org')"
   ]
  },
  {
   "cell_type": "code",
   "execution_count": 14,
   "metadata": {},
   "outputs": [
    {
     "ename": "ERROR",
     "evalue": "Error in library(pscl): there is no package called ‘pscl’\n",
     "output_type": "error",
     "traceback": [
      "Error in library(pscl): there is no package called ‘pscl’\nTraceback:\n",
      "1. library(pscl)"
     ]
    }
   ],
   "source": [
    "library(pscl)\n",
    "generateTestData(legislators=20, rcVotes=100,yea=matrix(runif(rcVotes,min=-0.2,max=0.7),nrow=rcVotes),nay=matrix(runif(rcVotes,min=-0.7,max=0.2),nrow=rcVotes),ideal=matrix(rnorm(legislators),nrow=legislators),Beta=15, dimweight=0.5,normal=1, seed = NULL, utility='nominate')"
   ]
  },
  {
   "cell_type": "code",
   "execution_count": 15,
   "metadata": {},
   "outputs": [
    {
     "name": "stderr",
     "output_type": "stream",
     "text": [
      "Warning message in install.packages(\"pscl\"):\n",
      "“installation of package ‘pscl’ had non-zero exit status”Updating HTML index of packages in '.Library'\n",
      "Making 'packages.html' ... done\n"
     ]
    }
   ],
   "source": [
    "install.packages('pscl')"
   ]
  },
  {
   "cell_type": "code",
   "execution_count": null,
   "metadata": {},
   "outputs": [],
   "source": []
  },
  {
   "cell_type": "code",
   "execution_count": null,
   "metadata": {},
   "outputs": [],
   "source": []
  }
 ],
 "metadata": {
  "kernelspec": {
   "display_name": "R",
   "language": "R",
   "name": "ir"
  },
  "language_info": {
   "codemirror_mode": "r",
   "file_extension": ".r",
   "mimetype": "text/x-r-source",
   "name": "R",
   "pygments_lexer": "r",
   "version": "3.6.1"
  }
 },
 "nbformat": 4,
 "nbformat_minor": 4
}
